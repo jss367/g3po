{
 "cells": [
  {
   "cell_type": "markdown",
   "metadata": {},
   "source": [
    "Let's talk a little bit about nn.Embedding layers."
   ]
  },
  {
   "attachments": {},
   "cell_type": "markdown",
   "metadata": {},
   "source": [
    "The weights are initialized randomly, so you can train them like any other model. The point is to get each word in the vocabulary as a continuous vector in the embedding space. So in the beginning, cat and dog might not be near each other (because it's random). But after training they should be nearby each other."
   ]
  },
  {
   "attachments": {},
   "cell_type": "markdown",
   "metadata": {},
   "source": [
    "We train it with a sequence of integers "
   ]
  },
  {
   "cell_type": "code",
   "execution_count": 1,
   "metadata": {},
   "outputs": [],
   "source": [
    "import torch\n",
    "import torch.nn as nn\n",
    "import torch.optim as optim\n",
    "import numpy as np\n",
    "from sklearn.manifold import TSNE\n",
    "import matplotlib.pyplot as plt\n"
   ]
  },
  {
   "cell_type": "code",
   "execution_count": 2,
   "metadata": {},
   "outputs": [
    {
     "data": {
      "application/json": {
       "ascii": false,
       "bar_format": null,
       "colour": null,
       "elapsed": 0.035095930099487305,
       "initial": 0,
       "n": 0,
       "ncols": null,
       "nrows": null,
       "postfix": null,
       "prefix": "Downloading builder script",
       "rate": null,
       "total": 4314,
       "unit": "B",
       "unit_divisor": 1000,
       "unit_scale": true
      },
      "application/vnd.jupyter.widget-view+json": {
       "model_id": "cb4623a092d64226a8a590a02f61e85e",
       "version_major": 2,
       "version_minor": 0
      },
      "text/plain": [
       "Downloading builder script:   0%|          | 0.00/4.31k [00:00<?, ?B/s]"
      ]
     },
     "metadata": {},
     "output_type": "display_data"
    },
    {
     "data": {
      "application/json": {
       "ascii": false,
       "bar_format": null,
       "colour": null,
       "elapsed": 0.019598960876464844,
       "initial": 0,
       "n": 0,
       "ncols": null,
       "nrows": null,
       "postfix": null,
       "prefix": "Downloading metadata",
       "rate": null,
       "total": 2166,
       "unit": "B",
       "unit_divisor": 1000,
       "unit_scale": true
      },
      "application/vnd.jupyter.widget-view+json": {
       "model_id": "00032de0b43c4ab68d6162e778c1fbf7",
       "version_major": 2,
       "version_minor": 0
      },
      "text/plain": [
       "Downloading metadata:   0%|          | 0.00/2.17k [00:00<?, ?B/s]"
      ]
     },
     "metadata": {},
     "output_type": "display_data"
    },
    {
     "data": {
      "application/json": {
       "ascii": false,
       "bar_format": null,
       "colour": null,
       "elapsed": 0.017869949340820312,
       "initial": 0,
       "n": 0,
       "ncols": null,
       "nrows": null,
       "postfix": null,
       "prefix": "Downloading readme",
       "rate": null,
       "total": 7590,
       "unit": "B",
       "unit_divisor": 1000,
       "unit_scale": true
      },
      "application/vnd.jupyter.widget-view+json": {
       "model_id": "b0eddfcca0404935923143063ff07ba5",
       "version_major": 2,
       "version_minor": 0
      },
      "text/plain": [
       "Downloading readme:   0%|          | 0.00/7.59k [00:00<?, ?B/s]"
      ]
     },
     "metadata": {},
     "output_type": "display_data"
    },
    {
     "name": "stdout",
     "output_type": "stream",
     "text": [
      "Downloading and preparing dataset imdb/plain_text to /Users/jsimonelli/.cache/huggingface/datasets/imdb/plain_text/1.0.0/d613c88cf8fa3bab83b4ded3713f1f74830d1100e171db75bbddb80b3345c9c0...\n"
     ]
    },
    {
     "data": {
      "application/json": {
       "ascii": false,
       "bar_format": null,
       "colour": null,
       "elapsed": 0.020802021026611328,
       "initial": 0,
       "n": 0,
       "ncols": null,
       "nrows": null,
       "postfix": null,
       "prefix": "Downloading data",
       "rate": null,
       "total": 84125825,
       "unit": "B",
       "unit_divisor": 1000,
       "unit_scale": true
      },
      "application/vnd.jupyter.widget-view+json": {
       "model_id": "73c283f76f5145c18cf3819b53646d7c",
       "version_major": 2,
       "version_minor": 0
      },
      "text/plain": [
       "Downloading data:   0%|          | 0.00/84.1M [00:00<?, ?B/s]"
      ]
     },
     "metadata": {},
     "output_type": "display_data"
    },
    {
     "data": {
      "application/json": {
       "ascii": false,
       "bar_format": null,
       "colour": null,
       "elapsed": 0.015525102615356445,
       "initial": 0,
       "n": 0,
       "ncols": null,
       "nrows": null,
       "postfix": null,
       "prefix": "Generating train split",
       "rate": null,
       "total": 25000,
       "unit": " examples",
       "unit_divisor": 1000,
       "unit_scale": false
      },
      "application/vnd.jupyter.widget-view+json": {
       "model_id": "27511ce97aee4772a18e05c31675f7e5",
       "version_major": 2,
       "version_minor": 0
      },
      "text/plain": [
       "Generating train split:   0%|          | 0/25000 [00:00<?, ? examples/s]"
      ]
     },
     "metadata": {},
     "output_type": "display_data"
    },
    {
     "data": {
      "application/json": {
       "ascii": false,
       "bar_format": null,
       "colour": null,
       "elapsed": 0.016184091567993164,
       "initial": 0,
       "n": 0,
       "ncols": null,
       "nrows": null,
       "postfix": null,
       "prefix": "Generating test split",
       "rate": null,
       "total": 25000,
       "unit": " examples",
       "unit_divisor": 1000,
       "unit_scale": false
      },
      "application/vnd.jupyter.widget-view+json": {
       "model_id": "4aa68dbf5f0c4dd3a571d95438e765d5",
       "version_major": 2,
       "version_minor": 0
      },
      "text/plain": [
       "Generating test split:   0%|          | 0/25000 [00:00<?, ? examples/s]"
      ]
     },
     "metadata": {},
     "output_type": "display_data"
    },
    {
     "data": {
      "application/json": {
       "ascii": false,
       "bar_format": null,
       "colour": null,
       "elapsed": 0.015081167221069336,
       "initial": 0,
       "n": 0,
       "ncols": null,
       "nrows": null,
       "postfix": null,
       "prefix": "Generating unsupervised split",
       "rate": null,
       "total": 50000,
       "unit": " examples",
       "unit_divisor": 1000,
       "unit_scale": false
      },
      "application/vnd.jupyter.widget-view+json": {
       "model_id": "9e3f5ad99f4e44f383d4ab5d21de8547",
       "version_major": 2,
       "version_minor": 0
      },
      "text/plain": [
       "Generating unsupervised split:   0%|          | 0/50000 [00:00<?, ? examples/s]"
      ]
     },
     "metadata": {},
     "output_type": "display_data"
    },
    {
     "name": "stdout",
     "output_type": "stream",
     "text": [
      "Dataset imdb downloaded and prepared to /Users/jsimonelli/.cache/huggingface/datasets/imdb/plain_text/1.0.0/d613c88cf8fa3bab83b4ded3713f1f74830d1100e171db75bbddb80b3345c9c0. Subsequent calls will reuse this data.\n"
     ]
    },
    {
     "data": {
      "application/json": {
       "ascii": false,
       "bar_format": null,
       "colour": null,
       "elapsed": 0.014702081680297852,
       "initial": 0,
       "n": 0,
       "ncols": null,
       "nrows": null,
       "postfix": null,
       "prefix": "",
       "rate": null,
       "total": 3,
       "unit": "it",
       "unit_divisor": 1000,
       "unit_scale": false
      },
      "application/vnd.jupyter.widget-view+json": {
       "model_id": "6093da41dd224b3e8d098c1e68e4cb26",
       "version_major": 2,
       "version_minor": 0
      },
      "text/plain": [
       "  0%|          | 0/3 [00:00<?, ?it/s]"
      ]
     },
     "metadata": {},
     "output_type": "display_data"
    }
   ],
   "source": [
    "from datasets import load_dataset\n",
    "\n",
    "# Load the IMDB dataset\n",
    "dataset = load_dataset(\"imdb\")\n",
    "\n",
    "# Split the dataset into training and testing subsets\n",
    "train_data = dataset[\"train\"]\n",
    "test_data = dataset[\"test\"]\n",
    "\n",
    "# Take a subset of the data for faster training\n",
    "train_data = train_data.select(range(int(0.05 * len(train_data))))\n"
   ]
  },
  {
   "cell_type": "code",
   "execution_count": 14,
   "metadata": {},
   "outputs": [
    {
     "data": {
      "text/plain": [
       "Dataset({\n",
       "    features: ['text', 'label'],\n",
       "    num_rows: 1250\n",
       "})"
      ]
     },
     "execution_count": 14,
     "metadata": {},
     "output_type": "execute_result"
    }
   ],
   "source": [
    "train_data"
   ]
  },
  {
   "cell_type": "markdown",
   "metadata": {},
   "source": [
    "Now we have to tokenize this"
   ]
  },
  {
   "cell_type": "code",
   "execution_count": 16,
   "metadata": {},
   "outputs": [
    {
     "data": {
      "text/plain": [
       "datasets.arrow_dataset.Dataset"
      ]
     },
     "execution_count": 16,
     "metadata": {},
     "output_type": "execute_result"
    }
   ],
   "source": [
    "type(train_data)"
   ]
  },
  {
   "attachments": {},
   "cell_type": "markdown",
   "metadata": {},
   "source": [
    "Let's look at an example."
   ]
  },
  {
   "cell_type": "code",
   "execution_count": 22,
   "metadata": {},
   "outputs": [
    {
     "name": "stdout",
     "output_type": "stream",
     "text": [
      "(0, 'I rented I AM CURIOUS-YELLOW from my video store because of all the controversy that surrounded it when it was first released in 1967. I also heard that at first it was seized by U.S. customs if it ev')\n",
      "(0, '\"I Am Curious: Yellow\" is a risible and pretentious steaming pile. It doesn\\'t matter what one\\'s political views are because this film can hardly be taken seriously on any level. As for the claim that ')\n",
      "(0, 'If only to avoid making this type of film in the future. This film is interesting as an experiment but tells no cogent story.<br /><br />One might feel virtuous for sitting thru it because it touches ')\n",
      "(0, \"This film was probably inspired by Godard's Masculin, féminin and I urge you to see that film instead.<br /><br />The film has two strong elements and those are, (1) the realistic acting (2) the impre\")\n",
      "(0, 'Oh, brother...after hearing about this ridiculous film for umpteen years all I can think of is that old Peggy Lee song..<br /><br />\"Is that all there is??\" ...I was just an early teen when this smoke')\n",
      "(0, 'I would put this at the top of my list of films in the category of unwatchable trash! There are films that are bad, but the worst kind are the ones that are unwatchable but you are suppose to like the')\n",
      "(0, \"Whoever wrote the screenplay for this movie obviously never consulted any books about Lucille Ball, especially her autobiography. I've never seen so many mistakes in a biopic, ranging from her early y\")\n",
      "(0, \"When I first saw a glimpse of this movie, I quickly noticed the actress who was playing the role of Lucille Ball. Rachel York's portrayal of Lucy is absolutely awful. Lucille Ball was an astounding co\")\n",
      "(0, 'Who are these \"They\"- the actors? the filmmakers? Certainly couldn\\'t be the audience- this is among the most air-puffed productions in existence. It\\'s the kind of movie that looks like it was a lot of')\n",
      "(0, 'This is said to be a personal film for Peter Bogdonavitch. He based it on his life but changed things around to fit the characters, who are detectives. These detectives date beautiful models and have ')\n"
     ]
    }
   ],
   "source": [
    "train_iter = iter(train_data)\n",
    "for _ in range(10):\n",
    "    sample = next(train_iter)\n",
    "    print(f\"{sample['label'], sample['text'][:200]}\")"
   ]
  },
  {
   "cell_type": "code",
   "execution_count": 3,
   "metadata": {},
   "outputs": [],
   "source": [
    "corpus = [\n",
    "    \"the quick brown fox jumps over the lazy dog\",\n",
    "    \"the quick brown dog jumps over the lazy fox\",\n",
    "    \"the lazy brown fox jumps over the quick dog\",\n",
    "]\n",
    "\n",
    "def tokenize_corpus(corpus):\n",
    "    tokens = [x.split() for x in corpus]\n",
    "    return tokens\n",
    "\n",
    "tokenized_corpus = tokenize_corpus(corpus)\n"
   ]
  },
  {
   "cell_type": "code",
   "execution_count": 4,
   "metadata": {},
   "outputs": [],
   "source": [
    "def create_vocabulary(tokenized_corpus):\n",
    "    vocabulary = {}\n",
    "    for sentence in tokenized_corpus:\n",
    "        for token in sentence:\n",
    "            if token not in vocabulary:\n",
    "                vocabulary[token] = len(vocabulary)\n",
    "    return vocabulary\n",
    "\n",
    "vocabulary = create_vocabulary(tokenized_corpus)\n"
   ]
  },
  {
   "cell_type": "code",
   "execution_count": 5,
   "metadata": {},
   "outputs": [
    {
     "data": {
      "text/plain": [
       "{'the': 0,\n",
       " 'quick': 1,\n",
       " 'brown': 2,\n",
       " 'fox': 3,\n",
       " 'jumps': 4,\n",
       " 'over': 5,\n",
       " 'lazy': 6,\n",
       " 'dog': 7}"
      ]
     },
     "execution_count": 5,
     "metadata": {},
     "output_type": "execute_result"
    }
   ],
   "source": [
    "vocabulary"
   ]
  },
  {
   "cell_type": "code",
   "execution_count": 6,
   "metadata": {},
   "outputs": [],
   "source": [
    "embedding_dim = 50\n",
    "\n",
    "class EmbeddingModel(nn.Module):\n",
    "    def __init__(self, vocab_size, embedding_dim):\n",
    "        super(EmbeddingModel, self).__init__()\n",
    "        self.embeddings = nn.Embedding(vocab_size, embedding_dim)\n",
    "\n",
    "    def forward(self, input):\n",
    "        return self.embeddings(input)\n",
    "\n",
    "model = EmbeddingModel(len(vocabulary), embedding_dim)\n"
   ]
  },
  {
   "cell_type": "code",
   "execution_count": 7,
   "metadata": {},
   "outputs": [
    {
     "data": {
      "text/plain": [
       "EmbeddingModel(\n",
       "  (embeddings): Embedding(8, 50)\n",
       ")"
      ]
     },
     "execution_count": 7,
     "metadata": {},
     "output_type": "execute_result"
    }
   ],
   "source": [
    "model"
   ]
  },
  {
   "attachments": {},
   "cell_type": "markdown",
   "metadata": {},
   "source": [
    "We'll train it with the Skip-Gram approach"
   ]
  },
  {
   "cell_type": "code",
   "execution_count": 8,
   "metadata": {},
   "outputs": [],
   "source": [
    "window_size = 2\n",
    "\n",
    "def generate_training_data(tokenized_corpus, vocabulary, window_size):\n",
    "    training_data = []\n",
    "    for sentence in tokenized_corpus:\n",
    "        indices = [vocabulary[word] for word in sentence]\n",
    "        for center_word_pos in range(len(indices)):\n",
    "            for w in range(-window_size, window_size + 1):\n",
    "                context_word_pos = center_word_pos + w\n",
    "                if context_word_pos < 0 or context_word_pos >= len(indices) or center_word_pos == context_word_pos:\n",
    "                    continue\n",
    "                training_data.append((indices[center_word_pos], indices[context_word_pos]))\n",
    "    return training_data\n",
    "\n",
    "training_data = generate_training_data(tokenized_corpus, vocabulary, window_size)\n"
   ]
  },
  {
   "cell_type": "code",
   "execution_count": 9,
   "metadata": {},
   "outputs": [
    {
     "data": {
      "text/plain": [
       "[(0, 1),\n",
       " (0, 2),\n",
       " (1, 0),\n",
       " (1, 2),\n",
       " (1, 3),\n",
       " (2, 0),\n",
       " (2, 1),\n",
       " (2, 3),\n",
       " (2, 4),\n",
       " (3, 1),\n",
       " (3, 2),\n",
       " (3, 4),\n",
       " (3, 5),\n",
       " (4, 2),\n",
       " (4, 3),\n",
       " (4, 5),\n",
       " (4, 0),\n",
       " (5, 3),\n",
       " (5, 4),\n",
       " (5, 0),\n",
       " (5, 6),\n",
       " (0, 4),\n",
       " (0, 5),\n",
       " (0, 6),\n",
       " (0, 7),\n",
       " (6, 5),\n",
       " (6, 0),\n",
       " (6, 7),\n",
       " (7, 0),\n",
       " (7, 6),\n",
       " (0, 1),\n",
       " (0, 2),\n",
       " (1, 0),\n",
       " (1, 2),\n",
       " (1, 7),\n",
       " (2, 0),\n",
       " (2, 1),\n",
       " (2, 7),\n",
       " (2, 4),\n",
       " (7, 1),\n",
       " (7, 2),\n",
       " (7, 4),\n",
       " (7, 5),\n",
       " (4, 2),\n",
       " (4, 7),\n",
       " (4, 5),\n",
       " (4, 0),\n",
       " (5, 7),\n",
       " (5, 4),\n",
       " (5, 0),\n",
       " (5, 6),\n",
       " (0, 4),\n",
       " (0, 5),\n",
       " (0, 6),\n",
       " (0, 3),\n",
       " (6, 5),\n",
       " (6, 0),\n",
       " (6, 3),\n",
       " (3, 0),\n",
       " (3, 6),\n",
       " (0, 6),\n",
       " (0, 2),\n",
       " (6, 0),\n",
       " (6, 2),\n",
       " (6, 3),\n",
       " (2, 0),\n",
       " (2, 6),\n",
       " (2, 3),\n",
       " (2, 4),\n",
       " (3, 6),\n",
       " (3, 2),\n",
       " (3, 4),\n",
       " (3, 5),\n",
       " (4, 2),\n",
       " (4, 3),\n",
       " (4, 5),\n",
       " (4, 0),\n",
       " (5, 3),\n",
       " (5, 4),\n",
       " (5, 0),\n",
       " (5, 1),\n",
       " (0, 4),\n",
       " (0, 5),\n",
       " (0, 1),\n",
       " (0, 7),\n",
       " (1, 5),\n",
       " (1, 0),\n",
       " (1, 7),\n",
       " (7, 0),\n",
       " (7, 1)]"
      ]
     },
     "execution_count": 9,
     "metadata": {},
     "output_type": "execute_result"
    }
   ],
   "source": [
    "training_data"
   ]
  },
  {
   "attachments": {},
   "cell_type": "markdown",
   "metadata": {},
   "source": [
    "Now create the training loop."
   ]
  },
  {
   "cell_type": "code",
   "execution_count": 10,
   "metadata": {},
   "outputs": [
    {
     "name": "stdout",
     "output_type": "stream",
     "text": [
      "Epoch 1/100, Loss: 1.1645975748697917\n",
      "Epoch 2/100, Loss: 1.1576998392740885\n",
      "Epoch 3/100, Loss: 1.160050286187066\n",
      "Epoch 4/100, Loss: 1.1583006117078993\n",
      "Epoch 5/100, Loss: 1.1617673238118489\n",
      "Epoch 6/100, Loss: 1.158350372314453\n",
      "Epoch 7/100, Loss: 1.141011004977756\n",
      "Epoch 8/100, Loss: 1.143779076470269\n",
      "Epoch 9/100, Loss: 1.143271509806315\n",
      "Epoch 10/100, Loss: 1.1319017198350694\n",
      "Epoch 11/100, Loss: 1.1276723225911458\n",
      "Epoch 12/100, Loss: 1.1473401387532551\n",
      "Epoch 13/100, Loss: 1.114923816257053\n",
      "Epoch 14/100, Loss: 1.1149561140272353\n",
      "Epoch 15/100, Loss: 1.124348873562283\n",
      "Epoch 16/100, Loss: 1.1025133768717448\n",
      "Epoch 17/100, Loss: 1.1124415927463107\n",
      "Epoch 18/100, Loss: 1.1212657080756294\n",
      "Epoch 19/100, Loss: 1.0924373626708985\n",
      "Epoch 20/100, Loss: 1.102300516764323\n",
      "Epoch 21/100, Loss: 1.0866872999403212\n",
      "Epoch 22/100, Loss: 1.097404056125217\n",
      "Epoch 23/100, Loss: 1.086764187282986\n",
      "Epoch 24/100, Loss: 1.0778660668267144\n",
      "Epoch 25/100, Loss: 1.0741862403021918\n",
      "Epoch 26/100, Loss: 1.0739973704020183\n",
      "Epoch 27/100, Loss: 1.082132297092014\n",
      "Epoch 28/100, Loss: 1.0648655785454644\n",
      "Epoch 29/100, Loss: 1.0776775783962673\n",
      "Epoch 30/100, Loss: 1.0580451965332032\n",
      "Epoch 31/100, Loss: 1.0577340867784288\n",
      "Epoch 32/100, Loss: 1.0660008324517145\n",
      "Epoch 33/100, Loss: 1.0593238406711154\n",
      "Epoch 34/100, Loss: 1.0628845638699003\n",
      "Epoch 35/100, Loss: 1.0521920522054036\n",
      "Epoch 36/100, Loss: 1.0359397464328342\n",
      "Epoch 37/100, Loss: 1.06069827609592\n",
      "Epoch 38/100, Loss: 1.0276064130995008\n",
      "Epoch 39/100, Loss: 1.0383368174235026\n",
      "Epoch 40/100, Loss: 1.0336577945285372\n",
      "Epoch 41/100, Loss: 1.0469490898980034\n",
      "Epoch 42/100, Loss: 1.0267548455132378\n",
      "Epoch 43/100, Loss: 1.025238037109375\n",
      "Epoch 44/100, Loss: 1.0180391523573133\n",
      "Epoch 45/100, Loss: 1.0115011850992839\n",
      "Epoch 46/100, Loss: 1.025182342529297\n",
      "Epoch 47/100, Loss: 1.018146726820204\n",
      "Epoch 48/100, Loss: 1.0084040323893229\n",
      "Epoch 49/100, Loss: 1.0004389444986979\n",
      "Epoch 50/100, Loss: 0.9947757297092014\n",
      "Epoch 51/100, Loss: 1.0118943956163196\n",
      "Epoch 52/100, Loss: 0.9891035291883681\n",
      "Epoch 53/100, Loss: 0.9817282358805338\n",
      "Epoch 54/100, Loss: 0.9861525641547308\n",
      "Epoch 55/100, Loss: 0.9813016679551866\n",
      "Epoch 56/100, Loss: 0.9802963680691189\n",
      "Epoch 57/100, Loss: 0.9758871714274089\n",
      "Epoch 58/100, Loss: 0.9685490078396267\n",
      "Epoch 59/100, Loss: 0.9663175370958116\n",
      "Epoch 60/100, Loss: 0.9714831034342448\n",
      "Epoch 61/100, Loss: 0.9759022606743707\n",
      "Epoch 62/100, Loss: 0.9710872650146485\n",
      "Epoch 63/100, Loss: 0.9622997283935547\n",
      "Epoch 64/100, Loss: 0.9721073150634766\n",
      "Epoch 65/100, Loss: 0.9542935689290365\n",
      "Epoch 66/100, Loss: 0.934750747680664\n",
      "Epoch 67/100, Loss: 0.9499340057373047\n",
      "Epoch 68/100, Loss: 0.9543958028157552\n",
      "Epoch 69/100, Loss: 0.9312215169270833\n",
      "Epoch 70/100, Loss: 0.9437819163004557\n",
      "Epoch 71/100, Loss: 0.9319260067409939\n",
      "Epoch 72/100, Loss: 0.9281417422824436\n",
      "Epoch 73/100, Loss: 0.914224370320638\n",
      "Epoch 74/100, Loss: 0.9225578308105469\n",
      "Epoch 75/100, Loss: 0.8978817833794488\n",
      "Epoch 76/100, Loss: 0.9199353112114801\n",
      "Epoch 77/100, Loss: 0.9233965555826823\n",
      "Epoch 78/100, Loss: 0.9295859866672092\n",
      "Epoch 79/100, Loss: 0.9169663323296441\n",
      "Epoch 80/100, Loss: 0.9066276550292969\n",
      "Epoch 81/100, Loss: 0.9104501512315538\n",
      "Epoch 82/100, Loss: 0.899799092610677\n",
      "Epoch 83/100, Loss: 0.9156782786051433\n",
      "Epoch 84/100, Loss: 0.9188347286648221\n",
      "Epoch 85/100, Loss: 0.9181972927517361\n",
      "Epoch 86/100, Loss: 0.9017033047146268\n",
      "Epoch 87/100, Loss: 0.8843502892388238\n",
      "Epoch 88/100, Loss: 0.8872213151719835\n",
      "Epoch 89/100, Loss: 0.8777467939588759\n",
      "Epoch 90/100, Loss: 0.8823592715793186\n",
      "Epoch 91/100, Loss: 0.8788753509521484\n",
      "Epoch 92/100, Loss: 0.8714591132269965\n",
      "Epoch 93/100, Loss: 0.868749279446072\n",
      "Epoch 94/100, Loss: 0.8929538302951389\n",
      "Epoch 95/100, Loss: 0.8609037187364367\n",
      "Epoch 96/100, Loss: 0.8490254296196832\n",
      "Epoch 97/100, Loss: 0.862268575032552\n",
      "Epoch 98/100, Loss: 0.8586581759982639\n",
      "Epoch 99/100, Loss: 0.842450205485026\n",
      "Epoch 100/100, Loss: 0.8558791266547309\n"
     ]
    }
   ],
   "source": [
    "epochs = 100\n",
    "learning_rate = 0.001\n",
    "batch_size = 64\n",
    "\n",
    "# Defining the loss function and optimizer\n",
    "loss_function = nn.CrossEntropyLoss()\n",
    "optimizer = optim.Adam(model.parameters(), lr=learning_rate)\n",
    "\n",
    "# Training loop\n",
    "for epoch in range(epochs):\n",
    "    epoch_loss = 0\n",
    "    np.random.shuffle(training_data)\n",
    "\n",
    "    for batch_start in range(0, len(training_data), batch_size):\n",
    "        optimizer.zero_grad()\n",
    "\n",
    "        batch = training_data[batch_start:batch_start + batch_size]\n",
    "\n",
    "        input_batch = torch.tensor([x[0] for x in batch], dtype=torch.long)\n",
    "        target_batch = torch.tensor([x[1] for x in batch], dtype=torch.long)\n",
    "\n",
    "        # Forward pass\n",
    "        embeddings = model(input_batch)\n",
    "        scores = torch.matmul(embeddings, model.embeddings.weight.T)\n",
    "        loss = loss_function(scores, target_batch)\n",
    "\n",
    "        # Backward pass\n",
    "        loss.backward()\n",
    "        optimizer.step()\n",
    "\n",
    "        epoch_loss += loss.item()\n",
    "\n",
    "    print(f\"Epoch {epoch+1}/{epochs}, Loss: {epoch_loss/len(training_data)}\")\n"
   ]
  },
  {
   "cell_type": "code",
   "execution_count": 11,
   "metadata": {},
   "outputs": [],
   "source": [
    "embeddings = model.embeddings.weight.detach().numpy()\n"
   ]
  },
  {
   "cell_type": "code",
   "execution_count": 12,
   "metadata": {},
   "outputs": [],
   "source": [
    "from sklearn.decomposition import PCA\n",
    "\n",
    "# First, install the required library if you haven't already:\n",
    "# pip install scikit-learn\n",
    "\n",
    "pca = PCA(n_components=2)\n",
    "reduced_embeddings = pca.fit_transform(embeddings)\n"
   ]
  },
  {
   "cell_type": "code",
   "execution_count": 13,
   "metadata": {},
   "outputs": [
    {
     "data": {
      "image/png": "[encoded data removed]",
      "text/plain": [
       "<Figure size 1000x1000 with 1 Axes>"
      ]
     },
     "metadata": {},
     "output_type": "display_data"
    }
   ],
   "source": [
    "plt.figure(figsize=(10, 10))\n",
    "\n",
    "for i, word in enumerate(vocabulary):\n",
    "    x, y = reduced_embeddings[i]\n",
    "    plt.scatter(x, y)\n",
    "    plt.annotate(word, xy=(x, y), xytext=(5, 2), textcoords=\"offset points\", fontsize=12)\n",
    "\n",
    "plt.show()"
   ]
  }
 ],
 "metadata": {
  "kernelspec": {
   "display_name": "pt2",
   "language": "python",
   "name": "python3"
  },
  "language_info": {
   "codemirror_mode": {
    "name": "ipython",
    "version": 3
   },
   "file_extension": ".py",
   "mimetype": "text/x-python",
   "name": "python",
   "nbconvert_exporter": "python",
   "pygments_lexer": "ipython3",
   "version": "3.10.4"
  },
  "orig_nbformat": 4
 },
 "nbformat": 4,
 "nbformat_minor": 2
}
