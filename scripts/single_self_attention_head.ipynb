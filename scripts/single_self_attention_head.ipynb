{
 "cells": [
  {
   "attachments": {},
   "cell_type": "markdown",
   "metadata": {},
   "source": [
    "In this notebook we'll implement a single self-attention head."
   ]
  },
  {
   "cell_type": "code",
   "execution_count": 10,
   "metadata": {},
   "outputs": [],
   "source": [
    "import torch\n",
    "from pyxtend import struct\n",
    "from torch import nn"
   ]
  },
  {
   "cell_type": "code",
   "execution_count": 3,
   "metadata": {},
   "outputs": [
    {
     "data": {
      "text/plain": [
       "<torch._C.Generator at 0x7f88a84d62b0>"
      ]
     },
     "execution_count": 3,
     "metadata": {},
     "output_type": "execute_result"
    }
   ],
   "source": [
    "torch.manual_seed(42)"
   ]
  },
  {
   "cell_type": "code",
   "execution_count": 4,
   "metadata": {},
   "outputs": [],
   "source": [
    "B,T,C = 4,8,2 # batch, time, channel"
   ]
  },
  {
   "cell_type": "code",
   "execution_count": 5,
   "metadata": {},
   "outputs": [],
   "source": [
    "x = torch.randn(B,T,C)"
   ]
  },
  {
   "cell_type": "code",
   "execution_count": 6,
   "metadata": {},
   "outputs": [
    {
     "data": {
      "text/plain": [
       "{'Tensor': ['torch.float32, shape=(4, 8, 2)']}"
      ]
     },
     "execution_count": 6,
     "metadata": {},
     "output_type": "execute_result"
    }
   ],
   "source": [
    "struct(x)"
   ]
  },
  {
   "attachments": {},
   "cell_type": "markdown",
   "metadata": {},
   "source": [
    "We have 8 tokens in a batch. They are currently not \"talking\" to each other, but we would like to get them to. Thus, self-attention.\n",
    "It shouldn't communicate with future tokens though."
   ]
  },
  {
   "attachments": {},
   "cell_type": "markdown",
   "metadata": {},
   "source": [
    "How does self-attention do this? Every single position emits two vectors - a query and a key\n",
    "* Query vector - what am i looking for\n",
    "* key vector - what do i contain\n",
    "\n",
    "do dot product between keys and queries to get the affinity between the two."
   ]
  },
  {
   "cell_type": "code",
   "execution_count": 7,
   "metadata": {},
   "outputs": [
    {
     "data": {
      "text/plain": [
       "2"
      ]
     },
     "execution_count": 7,
     "metadata": {},
     "output_type": "execute_result"
    }
   ],
   "source": [
    "C"
   ]
  },
  {
   "cell_type": "code",
   "execution_count": 8,
   "metadata": {},
   "outputs": [],
   "source": [
    "head_size = 16"
   ]
  },
  {
   "cell_type": "code",
   "execution_count": null,
   "metadata": {},
   "outputs": [],
   "source": []
  },
  {
   "cell_type": "code",
   "execution_count": 25,
   "metadata": {},
   "outputs": [],
   "source": [
    "key = nn.Linear(C, head_size, bias=False)\n",
    "query = nn.Linear(C, head_size, bias=False)\n"
   ]
  },
  {
   "cell_type": "code",
   "execution_count": 26,
   "metadata": {},
   "outputs": [
    {
     "data": {
      "text/plain": [
       "'unsupported'"
      ]
     },
     "execution_count": 26,
     "metadata": {},
     "output_type": "execute_result"
    }
   ],
   "source": [
    "struct(key)"
   ]
  },
  {
   "attachments": {},
   "cell_type": "markdown",
   "metadata": {},
   "source": [
    "Remember, this linear layer is just a matrix of weights (potentially with a bias matrix as well, but not in this case)."
   ]
  },
  {
   "cell_type": "code",
   "execution_count": 30,
   "metadata": {},
   "outputs": [
    {
     "name": "stdout",
     "output_type": "stream",
     "text": [
      "Weights:\n",
      "Parameter containing:\n",
      "tensor([[ 0.4520,  0.6077],\n",
      "        [-0.0700, -0.1583],\n",
      "        [ 0.0103, -0.0422],\n",
      "        [ 0.1700,  0.1982],\n",
      "        [-0.6422, -0.2609],\n",
      "        [ 0.5955,  0.2755],\n",
      "        [-0.0352, -0.4263],\n",
      "        [-0.4326, -0.6334],\n",
      "        [-0.2305,  0.2388],\n",
      "        [ 0.4509,  0.3265],\n",
      "        [-0.6250, -0.4252],\n",
      "        [-0.1116,  0.6840],\n",
      "        [ 0.1023, -0.1831],\n",
      "        [ 0.2925, -0.2693],\n",
      "        [-0.4577,  0.5161],\n",
      "        [-0.3215, -0.1418]], requires_grad=True)\n"
     ]
    }
   ],
   "source": [
    "# Print the weights (matrix A)\n",
    "print(\"Weights:\")\n",
    "print(key.weight)"
   ]
  },
  {
   "cell_type": "code",
   "execution_count": 13,
   "metadata": {},
   "outputs": [],
   "source": [
    "k = key(x)\n",
    "q = query(x)"
   ]
  },
  {
   "cell_type": "code",
   "execution_count": 15,
   "metadata": {},
   "outputs": [
    {
     "data": {
      "text/plain": [
       "{'Tensor': ['torch.float32, shape=(4, 8, 16)']}"
      ]
     },
     "execution_count": 15,
     "metadata": {},
     "output_type": "execute_result"
    }
   ],
   "source": [
    "struct(k) # B,T,head_size"
   ]
  },
  {
   "attachments": {},
   "cell_type": "markdown",
   "metadata": {},
   "source": [
    "`wei` are the weights only looking back. So like half the weights."
   ]
  },
  {
   "cell_type": "code",
   "execution_count": 16,
   "metadata": {},
   "outputs": [],
   "source": [
    "wei = torch.einsum('bth,bth->bt', q, k) / head_size**0.5"
   ]
  },
  {
   "cell_type": "code",
   "execution_count": 17,
   "metadata": {},
   "outputs": [
    {
     "data": {
      "text/plain": [
       "tensor([[-0.2144, -0.0022,  0.0514, -0.2483,  0.0195, -0.2520, -0.0301,  0.1136],\n",
       "        [ 0.3697,  0.0478,  0.0955, -0.4000, -0.2236, -0.2507,  0.0080, -0.0254],\n",
       "        [-0.0311, -0.2036,  0.0177, -0.0055,  0.4563, -0.0244,  0.2212,  0.0667],\n",
       "        [-0.0353, -0.0314, -0.0075, -0.0660,  0.2487, -0.0346, -0.2832,  0.2605]],\n",
       "       grad_fn=<DivBackward0>)"
      ]
     },
     "execution_count": 17,
     "metadata": {},
     "output_type": "execute_result"
    }
   ],
   "source": [
    "wei"
   ]
  },
  {
   "cell_type": "code",
   "execution_count": 31,
   "metadata": {},
   "outputs": [
    {
     "data": {
      "text/plain": [
       "tensor(0.7492, grad_fn=<VarBackward0>)"
      ]
     },
     "execution_count": 31,
     "metadata": {},
     "output_type": "execute_result"
    }
   ],
   "source": [
    "wei.var()"
   ]
  },
  {
   "attachments": {},
   "cell_type": "markdown",
   "metadata": {},
   "source": [
    "wei gets too big if you don't normalize it. That's why we need head_size**0.5"
   ]
  },
  {
   "cell_type": "code",
   "execution_count": 18,
   "metadata": {},
   "outputs": [
    {
     "data": {
      "text/plain": [
       "{'Tensor': ['torch.float32, shape=(4, 8)']}"
      ]
     },
     "execution_count": 18,
     "metadata": {},
     "output_type": "execute_result"
    }
   ],
   "source": [
    "struct(wei)"
   ]
  },
  {
   "cell_type": "code",
   "execution_count": 19,
   "metadata": {},
   "outputs": [
    {
     "data": {
      "text/plain": [
       "4.0"
      ]
     },
     "execution_count": 19,
     "metadata": {},
     "output_type": "execute_result"
    }
   ],
   "source": [
    "head_size**0.5"
   ]
  },
  {
   "cell_type": "code",
   "execution_count": 21,
   "metadata": {},
   "outputs": [],
   "source": [
    "# wei = q @ k.transpose(-1,-2) / head_size**0.5 # why sqrt of head_size?\n",
    "wei = q @ k.transpose(-1,-2)"
   ]
  },
  {
   "cell_type": "code",
   "execution_count": 22,
   "metadata": {},
   "outputs": [
    {
     "data": {
      "text/plain": [
       "tensor([[[-0.8577,  1.8921,  1.1375,  1.3057, -1.4903,  1.0758,  0.3221,\n",
       "          -0.7678],\n",
       "         [ 3.8746, -0.0090,  0.2215, -1.1078, -0.0636, -1.5045, -1.4620,\n",
       "          -0.6648],\n",
       "         [ 2.3820,  0.1053,  0.2058, -0.6189, -0.1273, -0.8814, -0.8989,\n",
       "          -0.4624],\n",
       "         [ 2.4181, -0.5436, -0.1994, -0.9932,  0.3885, -1.1503, -0.9120,\n",
       "          -0.1545],\n",
       "         [-3.0683, -0.0274, -0.1971,  0.8579,  0.0779,  1.1778,  1.1578,\n",
       "           0.5432],\n",
       "         [ 1.8550, -0.7365, -0.3536, -0.9412,  0.5523, -1.0080, -0.6993,\n",
       "           0.0362],\n",
       "         [ 0.3204, -0.7140, -0.4294, -0.4918,  0.5624, -0.4047, -0.1203,\n",
       "           0.2903],\n",
       "         [-1.7276, -0.3224, -0.3037,  0.3108,  0.2882,  0.5425,  0.6522,\n",
       "           0.4545]],\n",
       "\n",
       "        [[ 1.4788, -0.5150, -0.8550,  0.4193,  0.9079,  0.3104, -0.2119,\n",
       "          -0.3699],\n",
       "         [-0.7511,  0.1914,  0.2540, -0.5285, -0.7161, -0.4078,  0.1041,\n",
       "           0.0380],\n",
       "         [-1.4612,  0.3286,  0.3820, -1.2245, -1.5517, -0.9490,  0.2005,\n",
       "          -0.0194],\n",
       "         [-0.6416, -0.0921, -0.4392, -1.6000, -1.5396, -1.2589,  0.0764,\n",
       "          -0.5132],\n",
       "         [ 0.0508, -0.2726, -0.6840, -1.1313, -0.8945, -0.8976, -0.0198,\n",
       "          -0.5570],\n",
       "         [-0.5306, -0.0653, -0.3355, -1.2747, -1.2341, -1.0027,  0.0637,\n",
       "          -0.4014],\n",
       "         [-0.2235,  0.0744,  0.1203, -0.0789, -0.1498, -0.0592,  0.0318,\n",
       "           0.0485],\n",
       "         [-0.8739,  0.1545,  0.1204, -0.9215, -1.0809, -0.7176,  0.1178,\n",
       "          -0.1015]],\n",
       "\n",
       "        [[-0.1244,  0.9377, -0.2936, -0.4710,  0.8785, -0.1036,  1.3931,\n",
       "           0.0380],\n",
       "         [ 1.8827, -0.8144, -0.0573,  0.1662,  0.9288,  1.2249, -0.0275,\n",
       "           1.5049],\n",
       "         [-0.6116,  0.1090,  0.0710,  0.0270, -0.4672, -0.3939, -0.2359,\n",
       "          -0.5131],\n",
       "         [-0.9628,  0.2956,  0.0700, -0.0221, -0.6036, -0.6233, -0.1763,\n",
       "          -0.7884],\n",
       "         [ 1.8834,  0.0279, -0.3409, -0.2722,  1.8252,  1.2038,  1.2988,\n",
       "           1.6365],\n",
       "         [-0.1278,  0.6205, -0.1863, -0.3055,  0.5380, -0.0976,  0.8916,\n",
       "          -0.0142],\n",
       "         [ 2.8807, -0.6572, -0.2859, -0.0521,  2.0474,  1.8590,  0.8848,\n",
       "           2.3941],\n",
       "         [ 0.1850,  0.6859, -0.2634, -0.3823,  0.9057,  0.1007,  1.2029,\n",
       "           0.2670]],\n",
       "\n",
       "        [[-0.1412,  0.1862,  0.4968, -0.1813,  0.1713,  0.2577,  0.6951,\n",
       "           0.6464],\n",
       "         [ 0.3439, -0.1255, -0.1323,  0.3370,  0.3137, -0.1238, -0.3554,\n",
       "          -0.0123],\n",
       "         [ 1.0147, -0.2607, -0.0302,  0.9594,  1.1701, -0.1970, -0.6014,\n",
       "           0.4860],\n",
       "         [-0.2316,  0.2008,  0.4712, -0.2641,  0.0479,  0.2620,  0.7136,\n",
       "           0.5621],\n",
       "         [ 0.5226,  0.0416,  0.5624,  0.4380,  0.9947,  0.1688,  0.4076,\n",
       "           1.0882],\n",
       "         [ 0.4999, -0.1555, -0.1036,  0.4812,  0.5162, -0.1385, -0.4065,\n",
       "           0.1107],\n",
       "         [ 1.3380, -0.4272, -0.3135,  1.2916,  1.3572, -0.3877, -1.1329,\n",
       "           0.2440],\n",
       "         [ 1.3973, -0.2808,  0.2156,  1.2961,  1.7857, -0.1510, -0.5090,\n",
       "           1.0421]]], grad_fn=<UnsafeViewBackward0>)"
      ]
     },
     "execution_count": 22,
     "metadata": {},
     "output_type": "execute_result"
    }
   ],
   "source": [
    "wei"
   ]
  },
  {
   "attachments": {},
   "cell_type": "markdown",
   "metadata": {},
   "source": [
    "But we don't want all lines of code to talk to each other, so we need to do some masking.\n",
    "\n",
    "It's a decoder block because it's decoding language. So I think deocder only means it's using masking??? Is this true?\n",
    "This is also known as auto-regressive."
   ]
  },
  {
   "attachments": {},
   "cell_type": "markdown",
   "metadata": {},
   "source": [
    "Same source `x` produces keys, queries, and values, so this is self-attention. Keys and values could come from a different source."
   ]
  },
  {
   "attachments": {},
   "cell_type": "markdown",
   "metadata": {},
   "source": [
    "Show the formula from the paper here. And the diagram."
   ]
  },
  {
   "cell_type": "markdown",
   "metadata": {},
   "source": []
  }
 ],
 "metadata": {
  "kernelspec": {
   "display_name": "pt2",
   "language": "python",
   "name": "python3"
  },
  "language_info": {
   "codemirror_mode": {
    "name": "ipython",
    "version": 3
   },
   "file_extension": ".py",
   "mimetype": "text/x-python",
   "name": "python",
   "nbconvert_exporter": "python",
   "pygments_lexer": "ipython3",
   "version": "3.10.4"
  },
  "orig_nbformat": 4
 },
 "nbformat": 4,
 "nbformat_minor": 2
}
